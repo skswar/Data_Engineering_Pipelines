{
 "cells": [
  {
   "cell_type": "code",
   "execution_count": 32,
   "id": "4a8ec6eb",
   "metadata": {},
   "outputs": [
    {
     "name": "stdout",
     "output_type": "stream",
     "text": [
      "NoneType: None\n",
      "\n"
     ]
    }
   ],
   "source": [
    "# imports for SQL data part\n",
    "import pyodbc\n",
    "import traceback\n",
    "from email.mime.text import MIMEText\n",
    "from email.mime.multipart import MIMEMultipart\n",
    "import smtplib\n",
    "    \n",
    "#set up connection\n",
    "cnxn = pyodbc.connect('DRIVER={ODBC Driver 17 for SQL Server};''SERVER=XYZ;\\\n",
    "                    ''DATABASE=database_name;''Trusted_Connection=yes;')\n",
    "\n",
    "\n",
    "# build up our query string and execute\n",
    "query = (\"EXEC [dbo].[load_tablename_main_daily]\")\n",
    "error = None\n",
    "\n",
    "try:\n",
    "    cursor = cnxn.cursor()\n",
    "    cursor.execute(query)\n",
    "    \n",
    "    #read return data from SP\n",
    "    row = cursor.fetchone()\n",
    "    row_count = row[0]\n",
    "    load_time = row[1]\n",
    "    \n",
    "    #commit transaction\n",
    "    cnxn.commit()\n",
    "    \n",
    "    #close connection\n",
    "    cursor.close()\n",
    "    cnxn.close()\n",
    "    del cursor\n",
    "    del cnxn\n",
    "    \n",
    "except Exception as e:\n",
    "    error = e\n",
    "    \n",
    "    cursor.close()\n",
    "    cnxn.close()\n",
    "    \n",
    "finally:  \n",
    "    #build email\n",
    "    # we will built the message using the email library and send using smtplib\n",
    "    msg = MIMEMultipart()\n",
    "    msg['Subject'] = \"Automated Main Table Load Daily Load Notification\"  # set email subject\n",
    "    \n",
    "    # we will send via outlook, first we initialise connection to mail server\n",
    "    smtp = smtplib.SMTP('smtp-mail.outlook.com', '587')\n",
    "    smtp.ehlo()  # say hello to the server\n",
    "    smtp.starttls()  # we will communicate using TLS encryption\n",
    "    \n",
    "    # login to outlook server, using generic email and password\n",
    "    smtp.login('donotreply@server.com', 'abcdefg')\n",
    "    \n",
    "    if(error==None):\n",
    "        # write an email message\n",
    "        txt = (f\"Daily Load of Main Table Table is completed.\\nTotal {row_count} rows were loaded in the [dbo].[destination_tablename_main] table at {load_time}\")\n",
    "        \n",
    "        msg.attach(MIMEText(txt))  # add text contents\n",
    "        \n",
    "        # send email to our boss\n",
    "        smtp.sendmail('donotreply@server.com', 'sayan@server.com', msg.as_string())\n",
    "        \n",
    "    else:\n",
    "        txt = (f\"There was an error while executing the load script. \\nThe error is:-> {error}\")\n",
    "        \n",
    "        msg.attach(MIMEText(txt))  # add text contents\n",
    "        \n",
    "        # send email to our boss\n",
    "        smtp.sendmail('donotreply@server.com', 'sayan@server.com', msg.as_string())\n",
    "        \n",
    "    # finally, disconnect from the mail server\n",
    "    smtp.quit()\n",
    "    \n",
    "print(traceback.format_exc())\n",
    "#input(\"Press return to exit\")"
   ]
  }
 ],
 "metadata": {
  "kernelspec": {
   "display_name": "Python 3 (ipykernel)",
   "language": "python",
   "name": "python3"
  },
  "language_info": {
   "codemirror_mode": {
    "name": "ipython",
    "version": 3
   },
   "file_extension": ".py",
   "mimetype": "text/x-python",
   "name": "python",
   "nbconvert_exporter": "python",
   "pygments_lexer": "ipython3",
   "version": "3.10.9"
  }
 },
 "nbformat": 4,
 "nbformat_minor": 5
}
