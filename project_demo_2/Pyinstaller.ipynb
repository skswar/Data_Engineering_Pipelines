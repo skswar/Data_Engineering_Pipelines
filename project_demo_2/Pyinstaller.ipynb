{
 "cells": [
  {
   "cell_type": "markdown",
   "id": "3facbe7a",
   "metadata": {},
   "source": [
    "### Run the code to create an executable file.\n",
    "\n",
    "Running executable file requires a separate environment with only required package installed in it. Otherwise the whole executable file can be very large in size. Also having a separate environment also resolves access issues in case there is some admin security placed on the base/root environment."
   ]
  },
  {
   "cell_type": "code",
   "execution_count": 1,
   "id": "97e72f93",
   "metadata": {},
   "outputs": [],
   "source": [
    "import os"
   ]
  },
  {
   "cell_type": "code",
   "execution_count": 2,
   "id": "ab9e724a",
   "metadata": {},
   "outputs": [
    {
     "data": {
      "text/plain": [
       "0"
      ]
     },
     "execution_count": 2,
     "metadata": {},
     "output_type": "execute_result"
    }
   ],
   "source": [
    "#excluding files that is not required to run the main script\n",
    "excluded_modules = ['jedi','PIL','psutil','tk','ipython','tcl','tcl8','tornado','matplotlib']\n",
    "\n",
    "append_string = ''\n",
    "for mod in excluded_modules:\n",
    "    append_string += f' --exclude-module {mod}'\n",
    "\n",
    "os.system\\\n",
    "(f'pyinstaller --onefile C:\\\\Users\\\\sayans\\\\MyPyFilesFolder\\\\Load_Environmental_Data.py --noconfirm {append_string}')"
   ]
  }
 ],
 "metadata": {
  "kernelspec": {
   "display_name": "Python 3 (ipykernel)",
   "language": "python",
   "name": "python3"
  },
  "language_info": {
   "codemirror_mode": {
    "name": "ipython",
    "version": 3
   },
   "file_extension": ".py",
   "mimetype": "text/x-python",
   "name": "python",
   "nbconvert_exporter": "python",
   "pygments_lexer": "ipython3",
   "version": "3.10.9"
  }
 },
 "nbformat": 4,
 "nbformat_minor": 5
}
